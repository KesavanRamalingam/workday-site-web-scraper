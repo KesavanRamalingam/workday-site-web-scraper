{
 "cells": [
  {
   "cell_type": "code",
   "execution_count": 141,
   "id": "associate-incidence",
   "metadata": {},
   "outputs": [],
   "source": [
    "import requests, time, random\n",
    "from bs4 import BeautifulSoup\n",
    "from selenium import webdriver\n",
    "from selenium.webdriver import ActionChains\n",
    "from selenium.webdriver.support.ui import WebDriverWait\n",
    "import pandas as pd"
   ]
  },
  {
   "cell_type": "code",
   "execution_count": 142,
   "id": "rubber-mainland",
   "metadata": {},
   "outputs": [],
   "source": [
    "PATH = \"C:\\Program Files (x86)\\chromedriver.exe\"\n",
    "\n",
    "driver = webdriver.Chrome(PATH)\n",
    "\n",
    "driver.get(\"https://mastercard.wd1.myworkdayjobs.com/CorporateCareers\")"
   ]
  },
  {
   "cell_type": "code",
   "execution_count": 143,
   "id": "convenient-surfing",
   "metadata": {},
   "outputs": [],
   "source": [
    "time.sleep(3)\n",
    "previous_height = driver.execute_script('return document.body.scrollHeight')\n",
    "\n",
    "while True:\n",
    "    driver.execute_script('window.scrollTo(0,document.body.scrollHeight);')\n",
    "    time.sleep(2)\n",
    "    \n",
    "    new_height  = driver.execute_script('return document.body.scrollHeight')\n",
    "    \n",
    "    if new_height == previous_height:\n",
    "        break\n",
    "    previous_height = new_height\n",
    "    "
   ]
  },
  {
   "cell_type": "code",
   "execution_count": 144,
   "id": "smoking-peter",
   "metadata": {},
   "outputs": [],
   "source": [
    "src = driver.page_source\n",
    "soup = BeautifulSoup(src,'lxml')"
   ]
  },
  {
   "cell_type": "code",
   "execution_count": 145,
   "id": "close-brass",
   "metadata": {},
   "outputs": [],
   "source": [
    "parsed_content = soup.find_all('div', {'class': 'WB5F WP4F'})"
   ]
  },
  {
   "cell_type": "code",
   "execution_count": 146,
   "id": "addressed-turkey",
   "metadata": {},
   "outputs": [],
   "source": [
    "item_list=[]"
   ]
  },
  {
   "cell_type": "code",
   "execution_count": null,
   "id": "prerequisite-factor",
   "metadata": {},
   "outputs": [],
   "source": [
    "for i in parsed_content:\n",
    "    name = i.find('div', {'class': 'gwt-Label WJBP WCAP'}).text.strip()\n",
    "    details = i.find('span',{'class':'gwt-InlineLabel WEAG WD5F'}).text.strip()\n",
    "    id_ = i.find('div', {'class': 'gwt-Label WJBP WCAP'}).get(\"id\")\n",
    "    x_path = '//*[@id=\"{}\"]'.format(id_)\n",
    "    button = driver.find_element_by_xpath(x_path)\n",
    "    actions = ActionChains(driver)\n",
    "    actions.context_click(button).perform()\n",
    "    time.sleep(2)\n",
    "    url_xpath = driver.find_elements_by_xpath('/html/body/div[6]/div[1]/div/table/tbody/tr[2]/div')\n",
    "    url = url_xpath[0].get_attribute(\"data-clipboard-text\")\n",
    "    \n",
    "    items={\n",
    "        'job_post':name,\n",
    "        'details':details,\n",
    "        'x_path':x_path,\n",
    "        'url':url,\n",
    "    }\n",
    "    \n",
    "    item_list.append(items)\n",
    "\n",
    "df = pd.DataFrame(item_list)\n",
    "df.to_csv(\"master_card_test.csv\")"
   ]
  },
  {
   "cell_type": "code",
   "execution_count": null,
   "id": "impossible-infrared",
   "metadata": {},
   "outputs": [],
   "source": []
  }
 ],
 "metadata": {
  "kernelspec": {
   "display_name": "Python 3",
   "language": "python",
   "name": "python3"
  },
  "language_info": {
   "codemirror_mode": {
    "name": "ipython",
    "version": 3
   },
   "file_extension": ".py",
   "mimetype": "text/x-python",
   "name": "python",
   "nbconvert_exporter": "python",
   "pygments_lexer": "ipython3",
   "version": "3.8.5"
  }
 },
 "nbformat": 4,
 "nbformat_minor": 5
}
